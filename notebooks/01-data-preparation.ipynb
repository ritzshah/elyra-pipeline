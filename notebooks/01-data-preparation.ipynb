{
 "cells": [
  {
   "cell_type": "markdown",
   "metadata": {
    "tags": []
   },
   "source": [
    "# Data Preparation Pipeline Component\n",
    "\n",
    "This notebook demonstrates data preparation as a reusable pipeline component in Elyra.\n",
    "It will be converted to a pipeline node that can be visually connected to other components."
   ]
  },
  {
   "cell_type": "markdown",
   "metadata": {},
   "source": [
    "## Environment Setup and Parameters"
   ]
  },
  {
   "cell_type": "code",
   "execution_count": null,
   "metadata": {
    "tags": [
     "parameters"
    ]
   },
   "outputs": [],
   "source": [
    "# Parameters - These will be configurable in the Elyra pipeline editor\n",
    "input_data_path = \"/tmp/raw_data.csv\"\n",
    "output_data_path = \"/tmp/processed_data.csv\"\n",
    "train_test_split_ratio = 0.2\n",
    "random_seed = 42"
   ]
  },
  {
   "cell_type": "code",
   "execution_count": null,
   "metadata": {},
   "outputs": [],
   "source": [
    "import pandas as pd\n",
    "import numpy as np\n",
    "from sklearn.model_selection import train_test_split\n",
    "from sklearn.preprocessing import StandardScaler, LabelEncoder\n",
    "import joblib\n",
    "import os\n",
    "import logging\n",
    "\n",
    "# Configure logging\n",
    "logging.basicConfig(level=logging.INFO)\n",
    "logger = logging.getLogger(__name__)"
   ]
  },
  {
   "cell_type": "markdown",
   "metadata": {},
   "source": [
    "## Data Loading and Validation"
   ]
  },
  {
   "cell_type": "code",
   "execution_count": null,
   "metadata": {},
   "outputs": [],
   "source": [
    "def load_and_validate_data(file_path):\n",
    "    \"\"\"Load data and perform basic validation.\"\"\"\n",
    "    try:\n",
    "        # For demo purposes, create sample data if file doesn't exist\n",
    "        if not os.path.exists(file_path):\n",
    "            logger.info(\"Creating sample dataset for demo\")\n",
    "            np.random.seed(random_seed)\n",
    "            n_samples = 1000\n",
    "            data = {\n",
    "                'feature1': np.random.normal(0, 1, n_samples),\n",
    "                'feature2': np.random.normal(2, 1.5, n_samples),\n",
    "                'feature3': np.random.uniform(0, 10, n_samples),\n",
    "                'category': np.random.choice(['A', 'B', 'C'], n_samples),\n",
    "                'target': np.random.choice([0, 1], n_samples)\n",
    "            }\n",
    "            df = pd.DataFrame(data)\n",
    "            # Save sample data\n",
    "            os.makedirs(os.path.dirname(file_path), exist_ok=True)\n",
    "            df.to_csv(file_path, index=False)\n",
    "        else:\n",
    "            df = pd.read_csv(file_path)\n",
    "        \n",
    "        logger.info(f\"Data loaded successfully. Shape: {df.shape}\")\n",
    "        logger.info(f\"Columns: {list(df.columns)}\")\n",
    "        \n",
    "        # Basic validation\n",
    "        if df.empty:\n",
    "            raise ValueError(\"Dataset is empty\")\n",
    "        \n",
    "        # Check for missing values\n",
    "        missing_values = df.isnull().sum()\n",
    "        if missing_values.any():\n",
    "            logger.warning(f\"Missing values found: {missing_values[missing_values > 0]}\")\n",
    "        \n",
    "        return df\n",
    "    \n",
    "    except Exception as e:\n",
    "        logger.error(f\"Error loading data: {str(e)}\")\n",
    "        raise\n",
    "\n",
    "# Load the data\n",
    "df = load_and_validate_data(input_data_path)\n",
    "print(\"Data shape:\", df.shape)\n",
    "df.head()"
   ]
  },
  {
   "cell_type": "markdown",
   "metadata": {},
   "source": [
    "## Data Preprocessing"
   ]
  },
  {
   "cell_type": "code",
   "execution_count": null,
   "metadata": {},
   "outputs": [],
   "source": [
    "def preprocess_data(df):\n",
    "    \"\"\"Perform data preprocessing including scaling and encoding.\"\"\"\n",
    "    df_processed = df.copy()\n",
    "    \n",
    "    # Handle missing values\n",
    "    for column in df_processed.columns:\n",
    "        if df_processed[column].dtype == 'object':\n",
    "            # Fill categorical missing values with mode\n",
    "            df_processed[column] = df_processed[column].fillna(df_processed[column].mode()[0])\n",
    "        else:\n",
    "            # Fill numerical missing values with median\n",
    "            df_processed[column] = df_processed[column].fillna(df_processed[column].median())\n",
    "    \n",
    "    # Encode categorical variables\n",
    "    categorical_columns = df_processed.select_dtypes(include=['object']).columns\n",
    "    categorical_columns = [col for col in categorical_columns if col != 'target']\n",
    "    \n",
    "    label_encoders = {}\n",
    "    for column in categorical_columns:\n",
    "        le = LabelEncoder()\n",
    "        df_processed[column] = le.fit_transform(df_processed[column])\n",
    "        label_encoders[column] = le\n",
    "        logger.info(f\"Encoded column: {column}\")\n",
    "    \n",
    "    # Scale numerical features\n",
    "    numerical_columns = df_processed.select_dtypes(include=[np.number]).columns\n",
    "    numerical_columns = [col for col in numerical_columns if col != 'target']\n",
    "    \n",
    "    scaler = StandardScaler()\n",
    "    df_processed[numerical_columns] = scaler.fit_transform(df_processed[numerical_columns])\n",
    "    \n",
    "    logger.info(f\"Scaled columns: {list(numerical_columns)}\")\n",
    "    \n",
    "    # Save preprocessing artifacts\n",
    "    artifacts_dir = \"/tmp/preprocessing_artifacts\"\n",
    "    os.makedirs(artifacts_dir, exist_ok=True)\n",
    "    \n",
    "    joblib.dump(scaler, f\"{artifacts_dir}/scaler.pkl\")\n",
    "    joblib.dump(label_encoders, f\"{artifacts_dir}/label_encoders.pkl\")\n",
    "    \n",
    "    logger.info(\"Preprocessing artifacts saved\")\n",
    "    \n",
    "    return df_processed\n",
    "\n",
    "# Preprocess the data\n",
    "df_processed = preprocess_data(df)\n",
    "print(\"Processed data shape:\", df_processed.shape)\n",
    "df_processed.describe()"
   ]
  },
  {
   "cell_type": "markdown",
   "metadata": {},
   "source": [
    "## Train-Test Split"
   ]
  },
  {
   "cell_type": "code",
   "execution_count": null,
   "metadata": {},
   "outputs": [],
   "source": [
    "def create_train_test_split(df, test_size=0.2, random_state=42):\n",
    "    \"\"\"Create train-test split and save to separate files.\"\"\"\n",
    "    \n",
    "    # Separate features and target\n",
    "    X = df.drop('target', axis=1)\n",
    "    y = df['target']\n",
    "    \n",
    "    # Create train-test split\n",
    "    X_train, X_test, y_train, y_test = train_test_split(\n",
    "        X, y, test_size=test_size, random_state=random_state, stratify=y\n",
    "    )\n",
    "    \n",
    "    # Create DataFrames\n",
    "    train_df = pd.concat([X_train, y_train], axis=1)\n",
    "    test_df = pd.concat([X_test, y_test], axis=1)\n",
    "    \n",
    "    # Save datasets\n",
    "    output_dir = os.path.dirname(output_data_path)\n",
    "    os.makedirs(output_dir, exist_ok=True)\n",
    "    \n",
    "    train_path = f\"{output_dir}/train_data.csv\"\n",
    "    test_path = f\"{output_dir}/test_data.csv\"\n",
    "    \n",
    "    train_df.to_csv(train_path, index=False)\n",
    "    test_df.to_csv(test_path, index=False)\n",
    "    \n",
    "    # Also save the complete processed dataset\n",
    "    df.to_csv(output_data_path, index=False)\n",
    "    \n",
    "    logger.info(f\"Train set shape: {train_df.shape}\")\n",
    "    logger.info(f\"Test set shape: {test_df.shape}\")\n",
    "    logger.info(f\"Data saved to: {output_data_path}\")\n",
    "    \n",
    "    return train_df, test_df\n",
    "\n",
    "# Create splits\n",
    "train_data, test_data = create_train_test_split(df_processed, train_test_split_ratio, random_seed)\n",
    "\n",
    "print(f\"Training set: {train_data.shape}\")\n",
    "print(f\"Test set: {test_data.shape}\")"
   ]
  },
  {
   "cell_type": "markdown",
   "metadata": {},
   "source": [
    "## Data Quality Report"
   ]
  },
  {
   "cell_type": "code",
   "execution_count": null,
   "metadata": {},
   "outputs": [],
   "source": [
    "def generate_data_quality_report(df_original, df_processed):\n",
    "    \"\"\"Generate a data quality report.\"\"\"\n",
    "    report = {\n",
    "        'original_shape': df_original.shape,\n",
    "        'processed_shape': df_processed.shape,\n",
    "        'features_count': len([col for col in df_processed.columns if col != 'target']),\n",
    "        'missing_values_original': df_original.isnull().sum().sum(),\n",
    "        'missing_values_processed': df_processed.isnull().sum().sum(),\n",
    "        'categorical_features': len(df_original.select_dtypes(include=['object']).columns),\n",
    "        'numerical_features': len(df_original.select_dtypes(include=[np.number]).columns) - 1  # Exclude target\n",
    "    }\n",
    "    \n",
    "    # Save report\n",
    "    report_path = \"/tmp/data_quality_report.json\"\n",
    "    import json\n",
    "    with open(report_path, 'w') as f:\n",
    "        json.dump(report, f, indent=2)\n",
    "    \n",
    "    logger.info(f\"Data quality report saved to: {report_path}\")\n",
    "    \n",
    "    return report\n",
    "\n",
    "# Generate report\n",
    "quality_report = generate_data_quality_report(df, df_processed)\n",
    "print(\"Data Quality Report:\")\n",
    "for key, value in quality_report.items():\n",
    "    print(f\"  {key}: {value}\")"
   ]
  },
  {
   "cell_type": "markdown",
   "metadata": {},
   "source": [
    "## Pipeline Output Summary\n",
    "\n",
    "This cell summarizes the outputs that will be passed to the next pipeline component."
   ]
  },
  {
   "cell_type": "code",
   "execution_count": null,
   "metadata": {},
   "outputs": [],
   "source": [
    "# Pipeline outputs - these paths will be used by subsequent pipeline components\n",
    "pipeline_outputs = {\n",
    "    'processed_data': output_data_path,\n",
    "    'train_data': '/tmp/train_data.csv',\n",
    "    'test_data': '/tmp/test_data.csv',\n",
    "    'scaler_artifact': '/tmp/preprocessing_artifacts/scaler.pkl',\n",
    "    'encoders_artifact': '/tmp/preprocessing_artifacts/label_encoders.pkl',\n",
    "    'quality_report': '/tmp/data_quality_report.json'\n",
    "}\n",
    "\n",
    "print(\"Pipeline Component Completed Successfully!\")\n",
    "print(\"\\nOutputs available for next components:\")\n",
    "for key, path in pipeline_outputs.items():\n",
    "    print(f\"  {key}: {path}\")\n",
    "\n",
    "# Verify all outputs exist\n",
    "print(\"\\nOutput Verification:\")\n",
    "for key, path in pipeline_outputs.items():\n",
    "    exists = os.path.exists(path)\n",
    "    print(f\"  {key}: {'✓' if exists else '✗'} {path}\")"
   ]
  }
 ],
 "metadata": {
  "kernelspec": {
   "display_name": "Python 3 (ipykernel)",
   "language": "python",
   "name": "python3"
  },
  "language_info": {
   "codemirror_mode": {
    "name": "ipython",
    "version": 3
   },
   "file_extension": ".py",
   "mimetype": "text/x-python",
   "name": "python",
   "nbconvert_exporter": "python",
   "pygments_lexer": "ipython3",
   "version": "3.9.7"
  }
 },
 "nbformat": 4,
 "nbformat_minor": 4
}